{
 "cells": [
  {
   "cell_type": "code",
   "execution_count": 10,
   "metadata": {},
   "outputs": [],
   "source": [
    "from pandas import *\n",
    "from sklearn.model_selection import train_test_split\n",
    "from sklearn.dummy import DummyClassifier"
   ]
  },
  {
   "cell_type": "code",
   "execution_count": 3,
   "metadata": {},
   "outputs": [
    {
     "data": {
      "text/plain": [
       "label\n",
       "mellow       6\n",
       "fragrance    5\n",
       "bright       5\n",
       "funky        4\n",
       "sweet        4\n",
       "dull         3\n",
       "herbal       2\n",
       "tart         1\n",
       "Name: count, dtype: int64"
      ]
     },
     "execution_count": 3,
     "metadata": {},
     "output_type": "execute_result"
    }
   ],
   "source": [
    "df = read_csv(\"coffe dataset.csv\")\n",
    "df = df.drop(['id'], axis=1)\n",
    "\n",
    "df['label'].value_counts()"
   ]
  },
  {
   "cell_type": "code",
   "execution_count": 4,
   "metadata": {},
   "outputs": [
    {
     "data": {
      "text/plain": [
       "Catimor            5\n",
       "Geisha             4\n",
       "Red Bourbon        3\n",
       "SL34               3\n",
       "SL28               3\n",
       "Ruiru              3\n",
       "Catuai             3\n",
       "Heirloom           2\n",
       "Batian             2\n",
       "Caturra            2\n",
       "Mixed heirlooms    1\n",
       "Tim tim            1\n",
       "Gayo 2             1\n",
       "Gayo 1             1\n",
       "Ateng              1\n",
       "Abyssinia          1\n",
       "Sigararutang       1\n",
       "Wolisho            1\n",
       "Kurume             1\n",
       "Catucai            1\n",
       "SL14-28            1\n",
       "Parainema          1\n",
       "K7                 1\n",
       "Purple Typica      1\n",
       "Typica             1\n",
       "Name: count, dtype: int64"
      ]
     },
     "execution_count": 4,
     "metadata": {},
     "output_type": "execute_result"
    }
   ],
   "source": [
    "df['varietal'].str.split(\", \", expand=True).stack().value_counts()"
   ]
  },
  {
   "cell_type": "code",
   "execution_count": 5,
   "metadata": {},
   "outputs": [
    {
     "data": {
      "text/plain": [
       "roaster\n",
       "calere            5\n",
       "ini               3\n",
       "ona               3\n",
       "core              3\n",
       "path              2\n",
       "five senses       2\n",
       "code black        2\n",
       "wide open road    1\n",
       "criteria          1\n",
       "seven seeds       1\n",
       "kurasu            1\n",
       "VCR               1\n",
       "weekenders        1\n",
       "market lane       1\n",
       "manta ray         1\n",
       "four kilo fish    1\n",
       "everyday          1\n",
       "Name: count, dtype: int64"
      ]
     },
     "execution_count": 5,
     "metadata": {},
     "output_type": "execute_result"
    }
   ],
   "source": [
    "df['roaster'].value_counts()"
   ]
  },
  {
   "cell_type": "code",
   "execution_count": 9,
   "metadata": {},
   "outputs": [
    {
     "data": {
      "text/plain": [
       "peach             4\n",
       "green apple       3\n",
       "cherry            3\n",
       "dark chocolate    3\n",
       "blackberry        3\n",
       "                 ..\n",
       "purple grape      1\n",
       "star fruit        1\n",
       "guava             1\n",
       "fruit ferment     1\n",
       "sweet biscuit     1\n",
       "Name: count, Length: 85, dtype: int64"
      ]
     },
     "execution_count": 9,
     "metadata": {},
     "output_type": "execute_result"
    }
   ],
   "source": [
    "df['flavour notes'].str.split(\", \", expand=True).stack().value_counts()"
   ]
  },
  {
   "cell_type": "code",
   "execution_count": 11,
   "metadata": {},
   "outputs": [
    {
     "data": {
      "text/plain": [
       "like?\n",
       "yes    22\n",
       "no      8\n",
       "Name: count, dtype: int64"
      ]
     },
     "execution_count": 11,
     "metadata": {},
     "output_type": "execute_result"
    }
   ],
   "source": [
    "df['like?'].value_counts()"
   ]
  }
 ],
 "metadata": {
  "kernelspec": {
   "display_name": "Python 3",
   "language": "python",
   "name": "python3"
  },
  "language_info": {
   "codemirror_mode": {
    "name": "ipython",
    "version": 3
   },
   "file_extension": ".py",
   "mimetype": "text/x-python",
   "name": "python",
   "nbconvert_exporter": "python",
   "pygments_lexer": "ipython3",
   "version": "3.8.10"
  }
 },
 "nbformat": 4,
 "nbformat_minor": 2
}
